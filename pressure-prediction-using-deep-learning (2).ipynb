{
 "cells": [
  {
   "cell_type": "markdown",
   "metadata": {
    "id": "J6rD5RJ4fuQ8"
   },
   "source": [
    "# Import Packages"
   ]
  },
  {
   "cell_type": "code",
   "execution_count": 1,
   "metadata": {
    "id": "JcLcITzr7f7d"
   },
   "outputs": [],
   "source": [
    "import tensorflow as tf\n",
    "import pandas as pd\n",
    "import numpy as np\n",
    "import os\n",
    "import random\n",
    "from sklearn.model_selection import train_test_split"
   ]
  },
  {
   "cell_type": "markdown",
   "metadata": {
    "id": "V0H1DsqsfzAD"
   },
   "source": [
    "# Read Dataset"
   ]
  },
  {
   "cell_type": "code",
   "execution_count": null,
   "metadata": {
    "id": "xNPYXyzT7f7g"
   },
   "outputs": [],
   "source": []
  },
  {
   "cell_type": "code",
   "execution_count": 2,
   "metadata": {
    "colab": {
     "base_uri": "https://localhost:8080/",
     "height": 206
    },
    "id": "fo9iZ-Kr7f7g",
    "outputId": "791fb329-f651-4002-be86-458423a8d1c7"
   },
   "outputs": [
    {
     "data": {
      "text/html": [
       "<div>\n",
       "<style scoped>\n",
       "    .dataframe tbody tr th:only-of-type {\n",
       "        vertical-align: middle;\n",
       "    }\n",
       "\n",
       "    .dataframe tbody tr th {\n",
       "        vertical-align: top;\n",
       "    }\n",
       "\n",
       "    .dataframe thead th {\n",
       "        text-align: right;\n",
       "    }\n",
       "</style>\n",
       "<table border=\"1\" class=\"dataframe\">\n",
       "  <thead>\n",
       "    <tr style=\"text-align: right;\">\n",
       "      <th></th>\n",
       "      <th>id</th>\n",
       "      <th>breath_id</th>\n",
       "      <th>R</th>\n",
       "      <th>C</th>\n",
       "      <th>time_step</th>\n",
       "      <th>u_in</th>\n",
       "      <th>u_out</th>\n",
       "      <th>pressure</th>\n",
       "    </tr>\n",
       "  </thead>\n",
       "  <tbody>\n",
       "    <tr>\n",
       "      <th>0</th>\n",
       "      <td>1</td>\n",
       "      <td>1</td>\n",
       "      <td>20</td>\n",
       "      <td>50</td>\n",
       "      <td>0.000000</td>\n",
       "      <td>0.083334</td>\n",
       "      <td>0</td>\n",
       "      <td>5.837492</td>\n",
       "    </tr>\n",
       "    <tr>\n",
       "      <th>1</th>\n",
       "      <td>2</td>\n",
       "      <td>1</td>\n",
       "      <td>20</td>\n",
       "      <td>50</td>\n",
       "      <td>0.033652</td>\n",
       "      <td>18.383041</td>\n",
       "      <td>0</td>\n",
       "      <td>5.907794</td>\n",
       "    </tr>\n",
       "    <tr>\n",
       "      <th>2</th>\n",
       "      <td>3</td>\n",
       "      <td>1</td>\n",
       "      <td>20</td>\n",
       "      <td>50</td>\n",
       "      <td>0.067514</td>\n",
       "      <td>22.509278</td>\n",
       "      <td>0</td>\n",
       "      <td>7.876254</td>\n",
       "    </tr>\n",
       "    <tr>\n",
       "      <th>3</th>\n",
       "      <td>4</td>\n",
       "      <td>1</td>\n",
       "      <td>20</td>\n",
       "      <td>50</td>\n",
       "      <td>0.101542</td>\n",
       "      <td>22.808822</td>\n",
       "      <td>0</td>\n",
       "      <td>11.742872</td>\n",
       "    </tr>\n",
       "    <tr>\n",
       "      <th>4</th>\n",
       "      <td>5</td>\n",
       "      <td>1</td>\n",
       "      <td>20</td>\n",
       "      <td>50</td>\n",
       "      <td>0.135756</td>\n",
       "      <td>25.355850</td>\n",
       "      <td>0</td>\n",
       "      <td>12.234987</td>\n",
       "    </tr>\n",
       "  </tbody>\n",
       "</table>\n",
       "</div>"
      ],
      "text/plain": [
       "   id  breath_id   R   C  time_step       u_in  u_out   pressure\n",
       "0   1          1  20  50   0.000000   0.083334      0   5.837492\n",
       "1   2          1  20  50   0.033652  18.383041      0   5.907794\n",
       "2   3          1  20  50   0.067514  22.509278      0   7.876254\n",
       "3   4          1  20  50   0.101542  22.808822      0  11.742872\n",
       "4   5          1  20  50   0.135756  25.355850      0  12.234987"
      ]
     },
     "execution_count": 2,
     "metadata": {},
     "output_type": "execute_result"
    }
   ],
   "source": [
    "train = pd.read_csv( \"train.csv\")\n",
    "train.head()"
   ]
  },
  {
   "cell_type": "code",
   "execution_count": 3,
   "metadata": {
    "colab": {
     "base_uri": "https://localhost:8080/"
    },
    "id": "qBoCFrVcfl9o",
    "outputId": "d4652248-80ba-4aa3-fbeb-77367cce244a"
   },
   "outputs": [
    {
     "data": {
      "text/plain": [
       "array([ 5, 20, 50], dtype=int64)"
      ]
     },
     "execution_count": 3,
     "metadata": {},
     "output_type": "execute_result"
    }
   ],
   "source": [
    "np.unique(train['R'])"
   ]
  },
  {
   "cell_type": "code",
   "execution_count": 4,
   "metadata": {
    "colab": {
     "base_uri": "https://localhost:8080/",
     "height": 424
    },
    "id": "CfWJzTKu7f7g",
    "outputId": "fdffcbcd-f07e-42dd-e31e-8a209b488338"
   },
   "outputs": [
    {
     "data": {
      "text/html": [
       "<div>\n",
       "<style scoped>\n",
       "    .dataframe tbody tr th:only-of-type {\n",
       "        vertical-align: middle;\n",
       "    }\n",
       "\n",
       "    .dataframe tbody tr th {\n",
       "        vertical-align: top;\n",
       "    }\n",
       "\n",
       "    .dataframe thead th {\n",
       "        text-align: right;\n",
       "    }\n",
       "</style>\n",
       "<table border=\"1\" class=\"dataframe\">\n",
       "  <thead>\n",
       "    <tr style=\"text-align: right;\">\n",
       "      <th></th>\n",
       "      <th>id</th>\n",
       "      <th>breath_id</th>\n",
       "      <th>R</th>\n",
       "      <th>C</th>\n",
       "      <th>time_step</th>\n",
       "      <th>u_in</th>\n",
       "      <th>u_out</th>\n",
       "    </tr>\n",
       "  </thead>\n",
       "  <tbody>\n",
       "    <tr>\n",
       "      <th>0</th>\n",
       "      <td>1</td>\n",
       "      <td>0</td>\n",
       "      <td>5</td>\n",
       "      <td>20</td>\n",
       "      <td>0.000000</td>\n",
       "      <td>0.000000</td>\n",
       "      <td>0</td>\n",
       "    </tr>\n",
       "    <tr>\n",
       "      <th>1</th>\n",
       "      <td>2</td>\n",
       "      <td>0</td>\n",
       "      <td>5</td>\n",
       "      <td>20</td>\n",
       "      <td>0.031904</td>\n",
       "      <td>7.515046</td>\n",
       "      <td>0</td>\n",
       "    </tr>\n",
       "    <tr>\n",
       "      <th>2</th>\n",
       "      <td>3</td>\n",
       "      <td>0</td>\n",
       "      <td>5</td>\n",
       "      <td>20</td>\n",
       "      <td>0.063827</td>\n",
       "      <td>14.651675</td>\n",
       "      <td>0</td>\n",
       "    </tr>\n",
       "    <tr>\n",
       "      <th>3</th>\n",
       "      <td>4</td>\n",
       "      <td>0</td>\n",
       "      <td>5</td>\n",
       "      <td>20</td>\n",
       "      <td>0.095751</td>\n",
       "      <td>21.230610</td>\n",
       "      <td>0</td>\n",
       "    </tr>\n",
       "    <tr>\n",
       "      <th>4</th>\n",
       "      <td>5</td>\n",
       "      <td>0</td>\n",
       "      <td>5</td>\n",
       "      <td>20</td>\n",
       "      <td>0.127644</td>\n",
       "      <td>26.320956</td>\n",
       "      <td>0</td>\n",
       "    </tr>\n",
       "    <tr>\n",
       "      <th>...</th>\n",
       "      <td>...</td>\n",
       "      <td>...</td>\n",
       "      <td>...</td>\n",
       "      <td>...</td>\n",
       "      <td>...</td>\n",
       "      <td>...</td>\n",
       "      <td>...</td>\n",
       "    </tr>\n",
       "    <tr>\n",
       "      <th>395</th>\n",
       "      <td>396</td>\n",
       "      <td>31</td>\n",
       "      <td>20</td>\n",
       "      <td>50</td>\n",
       "      <td>2.552009</td>\n",
       "      <td>4.977700</td>\n",
       "      <td>1</td>\n",
       "    </tr>\n",
       "    <tr>\n",
       "      <th>396</th>\n",
       "      <td>397</td>\n",
       "      <td>31</td>\n",
       "      <td>20</td>\n",
       "      <td>50</td>\n",
       "      <td>2.586213</td>\n",
       "      <td>4.981205</td>\n",
       "      <td>1</td>\n",
       "    </tr>\n",
       "    <tr>\n",
       "      <th>397</th>\n",
       "      <td>398</td>\n",
       "      <td>31</td>\n",
       "      <td>20</td>\n",
       "      <td>50</td>\n",
       "      <td>2.620192</td>\n",
       "      <td>4.984142</td>\n",
       "      <td>1</td>\n",
       "    </tr>\n",
       "    <tr>\n",
       "      <th>398</th>\n",
       "      <td>399</td>\n",
       "      <td>31</td>\n",
       "      <td>20</td>\n",
       "      <td>50</td>\n",
       "      <td>2.654192</td>\n",
       "      <td>4.986621</td>\n",
       "      <td>1</td>\n",
       "    </tr>\n",
       "    <tr>\n",
       "      <th>399</th>\n",
       "      <td>400</td>\n",
       "      <td>31</td>\n",
       "      <td>20</td>\n",
       "      <td>50</td>\n",
       "      <td>2.688264</td>\n",
       "      <td>4.988717</td>\n",
       "      <td>1</td>\n",
       "    </tr>\n",
       "  </tbody>\n",
       "</table>\n",
       "<p>400 rows × 7 columns</p>\n",
       "</div>"
      ],
      "text/plain": [
       "      id  breath_id   R   C  time_step       u_in  u_out\n",
       "0      1          0   5  20   0.000000   0.000000      0\n",
       "1      2          0   5  20   0.031904   7.515046      0\n",
       "2      3          0   5  20   0.063827  14.651675      0\n",
       "3      4          0   5  20   0.095751  21.230610      0\n",
       "4      5          0   5  20   0.127644  26.320956      0\n",
       "..   ...        ...  ..  ..        ...        ...    ...\n",
       "395  396         31  20  50   2.552009   4.977700      1\n",
       "396  397         31  20  50   2.586213   4.981205      1\n",
       "397  398         31  20  50   2.620192   4.984142      1\n",
       "398  399         31  20  50   2.654192   4.986621      1\n",
       "399  400         31  20  50   2.688264   4.988717      1\n",
       "\n",
       "[400 rows x 7 columns]"
      ]
     },
     "execution_count": 4,
     "metadata": {},
     "output_type": "execute_result"
    }
   ],
   "source": [
    "test= pd.read_csv(\"test.csv\")\n",
    "test.head(n=400)"
   ]
  },
  {
   "cell_type": "code",
   "execution_count": 5,
   "metadata": {
    "colab": {
     "base_uri": "https://localhost:8080/"
    },
    "id": "JnqUWS7d7f7h",
    "outputId": "09d39897-ad34-4f35-de8c-8ae74cabe986"
   },
   "outputs": [
    {
     "data": {
      "text/plain": [
       "(array([     1,      2,      3, ..., 125743, 125745, 125749], dtype=int64),\n",
       " array([80, 80, 80, ..., 80, 80, 80], dtype=int64))"
      ]
     },
     "execution_count": 5,
     "metadata": {},
     "output_type": "execute_result"
    }
   ],
   "source": [
    "np.unique(train['breath_id'], return_counts = True)"
   ]
  },
  {
   "cell_type": "code",
   "execution_count": 6,
   "metadata": {
    "colab": {
     "base_uri": "https://localhost:8080/",
     "height": 424
    },
    "id": "B_KOhgO37f7h",
    "outputId": "4af3bd6e-275f-4d34-ba09-91b069d984d1"
   },
   "outputs": [
    {
     "data": {
      "text/html": [
       "<div>\n",
       "<style scoped>\n",
       "    .dataframe tbody tr th:only-of-type {\n",
       "        vertical-align: middle;\n",
       "    }\n",
       "\n",
       "    .dataframe tbody tr th {\n",
       "        vertical-align: top;\n",
       "    }\n",
       "\n",
       "    .dataframe thead th {\n",
       "        text-align: right;\n",
       "    }\n",
       "</style>\n",
       "<table border=\"1\" class=\"dataframe\">\n",
       "  <thead>\n",
       "    <tr style=\"text-align: right;\">\n",
       "      <th></th>\n",
       "      <th>id</th>\n",
       "      <th>breath_id</th>\n",
       "      <th>R</th>\n",
       "      <th>C</th>\n",
       "      <th>time_step</th>\n",
       "      <th>u_in</th>\n",
       "      <th>u_out</th>\n",
       "      <th>pressure</th>\n",
       "    </tr>\n",
       "  </thead>\n",
       "  <tbody>\n",
       "    <tr>\n",
       "      <th>0</th>\n",
       "      <td>1</td>\n",
       "      <td>1</td>\n",
       "      <td>20</td>\n",
       "      <td>50</td>\n",
       "      <td>0.000000</td>\n",
       "      <td>0.083334</td>\n",
       "      <td>0</td>\n",
       "      <td>5.837492</td>\n",
       "    </tr>\n",
       "    <tr>\n",
       "      <th>1</th>\n",
       "      <td>2</td>\n",
       "      <td>1</td>\n",
       "      <td>20</td>\n",
       "      <td>50</td>\n",
       "      <td>0.033652</td>\n",
       "      <td>18.383041</td>\n",
       "      <td>0</td>\n",
       "      <td>5.907794</td>\n",
       "    </tr>\n",
       "    <tr>\n",
       "      <th>2</th>\n",
       "      <td>3</td>\n",
       "      <td>1</td>\n",
       "      <td>20</td>\n",
       "      <td>50</td>\n",
       "      <td>0.067514</td>\n",
       "      <td>22.509278</td>\n",
       "      <td>0</td>\n",
       "      <td>7.876254</td>\n",
       "    </tr>\n",
       "    <tr>\n",
       "      <th>3</th>\n",
       "      <td>4</td>\n",
       "      <td>1</td>\n",
       "      <td>20</td>\n",
       "      <td>50</td>\n",
       "      <td>0.101542</td>\n",
       "      <td>22.808822</td>\n",
       "      <td>0</td>\n",
       "      <td>11.742872</td>\n",
       "    </tr>\n",
       "    <tr>\n",
       "      <th>4</th>\n",
       "      <td>5</td>\n",
       "      <td>1</td>\n",
       "      <td>20</td>\n",
       "      <td>50</td>\n",
       "      <td>0.135756</td>\n",
       "      <td>25.355850</td>\n",
       "      <td>0</td>\n",
       "      <td>12.234987</td>\n",
       "    </tr>\n",
       "    <tr>\n",
       "      <th>...</th>\n",
       "      <td>...</td>\n",
       "      <td>...</td>\n",
       "      <td>...</td>\n",
       "      <td>...</td>\n",
       "      <td>...</td>\n",
       "      <td>...</td>\n",
       "      <td>...</td>\n",
       "      <td>...</td>\n",
       "    </tr>\n",
       "    <tr>\n",
       "      <th>6035920</th>\n",
       "      <td>6035921</td>\n",
       "      <td>125749</td>\n",
       "      <td>50</td>\n",
       "      <td>10</td>\n",
       "      <td>0.000000</td>\n",
       "      <td>6.030572</td>\n",
       "      <td>0</td>\n",
       "      <td>3.939334</td>\n",
       "    </tr>\n",
       "    <tr>\n",
       "      <th>6035921</th>\n",
       "      <td>6035922</td>\n",
       "      <td>125749</td>\n",
       "      <td>50</td>\n",
       "      <td>10</td>\n",
       "      <td>0.033187</td>\n",
       "      <td>25.504196</td>\n",
       "      <td>0</td>\n",
       "      <td>5.345377</td>\n",
       "    </tr>\n",
       "    <tr>\n",
       "      <th>6035922</th>\n",
       "      <td>6035923</td>\n",
       "      <td>125749</td>\n",
       "      <td>50</td>\n",
       "      <td>10</td>\n",
       "      <td>0.066365</td>\n",
       "      <td>21.614707</td>\n",
       "      <td>0</td>\n",
       "      <td>9.563505</td>\n",
       "    </tr>\n",
       "    <tr>\n",
       "      <th>6035923</th>\n",
       "      <td>6035924</td>\n",
       "      <td>125749</td>\n",
       "      <td>50</td>\n",
       "      <td>10</td>\n",
       "      <td>0.099784</td>\n",
       "      <td>16.266744</td>\n",
       "      <td>0</td>\n",
       "      <td>15.117375</td>\n",
       "    </tr>\n",
       "    <tr>\n",
       "      <th>6035924</th>\n",
       "      <td>6035925</td>\n",
       "      <td>125749</td>\n",
       "      <td>50</td>\n",
       "      <td>10</td>\n",
       "      <td>0.133124</td>\n",
       "      <td>16.101221</td>\n",
       "      <td>0</td>\n",
       "      <td>15.468886</td>\n",
       "    </tr>\n",
       "  </tbody>\n",
       "</table>\n",
       "<p>377250 rows × 8 columns</p>\n",
       "</div>"
      ],
      "text/plain": [
       "              id  breath_id   R   C  time_step       u_in  u_out   pressure\n",
       "0              1          1  20  50   0.000000   0.083334      0   5.837492\n",
       "1              2          1  20  50   0.033652  18.383041      0   5.907794\n",
       "2              3          1  20  50   0.067514  22.509278      0   7.876254\n",
       "3              4          1  20  50   0.101542  22.808822      0  11.742872\n",
       "4              5          1  20  50   0.135756  25.355850      0  12.234987\n",
       "...          ...        ...  ..  ..        ...        ...    ...        ...\n",
       "6035920  6035921     125749  50  10   0.000000   6.030572      0   3.939334\n",
       "6035921  6035922     125749  50  10   0.033187  25.504196      0   5.345377\n",
       "6035922  6035923     125749  50  10   0.066365  21.614707      0   9.563505\n",
       "6035923  6035924     125749  50  10   0.099784  16.266744      0  15.117375\n",
       "6035924  6035925     125749  50  10   0.133124  16.101221      0  15.468886\n",
       "\n",
       "[377250 rows x 8 columns]"
      ]
     },
     "execution_count": 6,
     "metadata": {},
     "output_type": "execute_result"
    }
   ],
   "source": [
    "final_dataset = train.groupby('breath_id')\n",
    "final_dataset.head()"
   ]
  },
  {
   "cell_type": "code",
   "execution_count": 7,
   "metadata": {
    "colab": {
     "base_uri": "https://localhost:8080/",
     "height": 424
    },
    "id": "iRBmuQXKHRCA",
    "outputId": "ddedc48e-42c5-4ca9-e9fe-b03b347c0b55"
   },
   "outputs": [
    {
     "data": {
      "text/html": [
       "<div>\n",
       "<style scoped>\n",
       "    .dataframe tbody tr th:only-of-type {\n",
       "        vertical-align: middle;\n",
       "    }\n",
       "\n",
       "    .dataframe tbody tr th {\n",
       "        vertical-align: top;\n",
       "    }\n",
       "\n",
       "    .dataframe thead th {\n",
       "        text-align: right;\n",
       "    }\n",
       "</style>\n",
       "<table border=\"1\" class=\"dataframe\">\n",
       "  <thead>\n",
       "    <tr style=\"text-align: right;\">\n",
       "      <th></th>\n",
       "      <th>id</th>\n",
       "      <th>breath_id</th>\n",
       "      <th>R</th>\n",
       "      <th>C</th>\n",
       "      <th>time_step</th>\n",
       "      <th>u_in</th>\n",
       "      <th>u_out</th>\n",
       "      <th>pressure</th>\n",
       "    </tr>\n",
       "  </thead>\n",
       "  <tbody>\n",
       "    <tr>\n",
       "      <th>0</th>\n",
       "      <td>1</td>\n",
       "      <td>1</td>\n",
       "      <td>20</td>\n",
       "      <td>50</td>\n",
       "      <td>0.000000</td>\n",
       "      <td>0.083334</td>\n",
       "      <td>0</td>\n",
       "      <td>5.837492</td>\n",
       "    </tr>\n",
       "    <tr>\n",
       "      <th>1</th>\n",
       "      <td>2</td>\n",
       "      <td>1</td>\n",
       "      <td>20</td>\n",
       "      <td>50</td>\n",
       "      <td>0.033652</td>\n",
       "      <td>18.383041</td>\n",
       "      <td>0</td>\n",
       "      <td>5.907794</td>\n",
       "    </tr>\n",
       "    <tr>\n",
       "      <th>2</th>\n",
       "      <td>3</td>\n",
       "      <td>1</td>\n",
       "      <td>20</td>\n",
       "      <td>50</td>\n",
       "      <td>0.067514</td>\n",
       "      <td>22.509278</td>\n",
       "      <td>0</td>\n",
       "      <td>7.876254</td>\n",
       "    </tr>\n",
       "    <tr>\n",
       "      <th>3</th>\n",
       "      <td>4</td>\n",
       "      <td>1</td>\n",
       "      <td>20</td>\n",
       "      <td>50</td>\n",
       "      <td>0.101542</td>\n",
       "      <td>22.808822</td>\n",
       "      <td>0</td>\n",
       "      <td>11.742872</td>\n",
       "    </tr>\n",
       "    <tr>\n",
       "      <th>4</th>\n",
       "      <td>5</td>\n",
       "      <td>1</td>\n",
       "      <td>20</td>\n",
       "      <td>50</td>\n",
       "      <td>0.135756</td>\n",
       "      <td>25.355850</td>\n",
       "      <td>0</td>\n",
       "      <td>12.234987</td>\n",
       "    </tr>\n",
       "    <tr>\n",
       "      <th>...</th>\n",
       "      <td>...</td>\n",
       "      <td>...</td>\n",
       "      <td>...</td>\n",
       "      <td>...</td>\n",
       "      <td>...</td>\n",
       "      <td>...</td>\n",
       "      <td>...</td>\n",
       "      <td>...</td>\n",
       "    </tr>\n",
       "    <tr>\n",
       "      <th>6035920</th>\n",
       "      <td>6035921</td>\n",
       "      <td>125749</td>\n",
       "      <td>50</td>\n",
       "      <td>10</td>\n",
       "      <td>0.000000</td>\n",
       "      <td>6.030572</td>\n",
       "      <td>0</td>\n",
       "      <td>3.939334</td>\n",
       "    </tr>\n",
       "    <tr>\n",
       "      <th>6035921</th>\n",
       "      <td>6035922</td>\n",
       "      <td>125749</td>\n",
       "      <td>50</td>\n",
       "      <td>10</td>\n",
       "      <td>0.033187</td>\n",
       "      <td>25.504196</td>\n",
       "      <td>0</td>\n",
       "      <td>5.345377</td>\n",
       "    </tr>\n",
       "    <tr>\n",
       "      <th>6035922</th>\n",
       "      <td>6035923</td>\n",
       "      <td>125749</td>\n",
       "      <td>50</td>\n",
       "      <td>10</td>\n",
       "      <td>0.066365</td>\n",
       "      <td>21.614707</td>\n",
       "      <td>0</td>\n",
       "      <td>9.563505</td>\n",
       "    </tr>\n",
       "    <tr>\n",
       "      <th>6035923</th>\n",
       "      <td>6035924</td>\n",
       "      <td>125749</td>\n",
       "      <td>50</td>\n",
       "      <td>10</td>\n",
       "      <td>0.099784</td>\n",
       "      <td>16.266744</td>\n",
       "      <td>0</td>\n",
       "      <td>15.117375</td>\n",
       "    </tr>\n",
       "    <tr>\n",
       "      <th>6035924</th>\n",
       "      <td>6035925</td>\n",
       "      <td>125749</td>\n",
       "      <td>50</td>\n",
       "      <td>10</td>\n",
       "      <td>0.133124</td>\n",
       "      <td>16.101221</td>\n",
       "      <td>0</td>\n",
       "      <td>15.468886</td>\n",
       "    </tr>\n",
       "  </tbody>\n",
       "</table>\n",
       "<p>377250 rows × 8 columns</p>\n",
       "</div>"
      ],
      "text/plain": [
       "              id  breath_id   R   C  time_step       u_in  u_out   pressure\n",
       "0              1          1  20  50   0.000000   0.083334      0   5.837492\n",
       "1              2          1  20  50   0.033652  18.383041      0   5.907794\n",
       "2              3          1  20  50   0.067514  22.509278      0   7.876254\n",
       "3              4          1  20  50   0.101542  22.808822      0  11.742872\n",
       "4              5          1  20  50   0.135756  25.355850      0  12.234987\n",
       "...          ...        ...  ..  ..        ...        ...    ...        ...\n",
       "6035920  6035921     125749  50  10   0.000000   6.030572      0   3.939334\n",
       "6035921  6035922     125749  50  10   0.033187  25.504196      0   5.345377\n",
       "6035922  6035923     125749  50  10   0.066365  21.614707      0   9.563505\n",
       "6035923  6035924     125749  50  10   0.099784  16.266744      0  15.117375\n",
       "6035924  6035925     125749  50  10   0.133124  16.101221      0  15.468886\n",
       "\n",
       "[377250 rows x 8 columns]"
      ]
     },
     "execution_count": 7,
     "metadata": {},
     "output_type": "execute_result"
    }
   ],
   "source": [
    "data = train.groupby([\"breath_id\"])\n",
    "data.head()"
   ]
  },
  {
   "cell_type": "markdown",
   "metadata": {
    "id": "ZOF4GLoAf4VM"
   },
   "source": [
    "# Features Engineering"
   ]
  },
  {
   "cell_type": "code",
   "execution_count": 8,
   "metadata": {},
   "outputs": [],
   "source": [
    "train['last_value_u_in'] = train.groupby('breath_id')['u_in'].transform('last')\n",
    "train['u_in_lag1'] = train.groupby('breath_id')['u_in'].shift(1)\n",
    "train['u_out_lag1'] = train.groupby('breath_id')['u_out'].shift(1)\n",
    "train['u_in_lag_back1'] = train.groupby('breath_id')['u_in'].shift(-1)\n",
    "train['u_out_lag_back1'] = train.groupby('breath_id')['u_out'].shift(-1)\n",
    "train['u_in_lag2'] = train.groupby('breath_id')['u_in'].shift(2)\n",
    "train['u_out_lag2'] = train.groupby('breath_id')['u_out'].shift(2)\n",
    "train['u_in_lag_back2'] = train.groupby('breath_id')['u_in'].shift(-2)\n",
    "train['u_out_lag_back2'] = train.groupby('breath_id')['u_out'].shift(-2)\n",
    "train['u_in_lag3'] = train.groupby('breath_id')['u_in'].shift(3)\n",
    "train['u_out_lag3'] = train.groupby('breath_id')['u_out'].shift(3)\n",
    "train['u_in_lag_back3'] = train.groupby('breath_id')['u_in'].shift(-3)\n",
    "train['u_out_lag_back3'] = train.groupby('breath_id')['u_out'].shift(-3)\n",
    "train = train.fillna(0)\n",
    "\n",
    "\n",
    "train['R__C'] = train[\"R\"].astype(str) + '__' + train[\"C\"].astype(str)\n",
    "\n",
    "# max value of u_in and u_out for each breath\n",
    "train['breath_id__u_in__max'] = train.groupby(['breath_id'])['u_in'].transform('max')\n",
    "train['breath_id__u_out__max'] = train.groupby(['breath_id'])['u_out'].transform('max')\n",
    "\n",
    "# difference between consequitive values\n",
    "train['u_in_diff1'] = train['u_in'] - train['u_in_lag1']\n",
    "train['u_out_diff1'] = train['u_out'] - train['u_out_lag1']\n",
    "train['u_in_diff2'] = train['u_in'] - train['u_in_lag2']\n",
    "train['u_out_diff2'] = train['u_out'] - train['u_out_lag2']\n",
    "# from here: https://www.kaggle.com/yasufuminakama/ventilator-pressure-lstm-starter\n",
    "train.loc[train['time_step'] == 0, 'u_in_diff'] = 0\n",
    "train.loc[train['time_step'] == 0, 'u_out_diff'] = 0\n",
    "\n",
    "# difference between the current value of u_in and the max value within the breath\n",
    "train['breath_id__u_in__diffmax'] = train.groupby(['breath_id'])['u_in'].transform('max') - train['u_in']\n",
    "train['breath_id__u_in__diffmean'] = train.groupby(['breath_id'])['u_in'].transform('mean') - train['u_in']\n",
    "\n",
    "# OHE\n",
    "train = train.merge(pd.get_dummies(train['R'], prefix='R'), left_index=True, right_index=True).drop(['R'], axis=1)\n",
    "train = train.merge(pd.get_dummies(train['C'], prefix='C'), left_index=True, right_index=True).drop(['C'], axis=1)\n",
    "train = train.merge(pd.get_dummies(train['R__C'], prefix='R__C'), left_index=True, right_index=True).drop(['R__C'], axis=1)\n",
    "\n",
    "# https://www.kaggle.com/c/ventilator-pressure-prediction/discussion/273974\n",
    "train['u_in_cumsum'] = train.groupby(['breath_id'])['u_in'].cumsum()\n",
    "train['time_step_cumsum'] = train.groupby(['breath_id'])['time_step'].cumsum()"
   ]
  },
  {
   "cell_type": "code",
   "execution_count": 9,
   "metadata": {},
   "outputs": [],
   "source": [
    "\n",
    "test['last_value_u_in'] = test.groupby('breath_id')['u_in'].transform('last')\n",
    "test['u_in_lag1'] = test.groupby('breath_id')['u_in'].shift(1)\n",
    "test['u_out_lag1'] = test.groupby('breath_id')['u_out'].shift(1)\n",
    "test['u_in_lag_back1'] = test.groupby('breath_id')['u_in'].shift(-1)\n",
    "test['u_out_lag_back1'] = test.groupby('breath_id')['u_out'].shift(-1)\n",
    "test['u_in_lag2'] = test.groupby('breath_id')['u_in'].shift(2)\n",
    "test['u_out_lag2'] = test.groupby('breath_id')['u_out'].shift(2)\n",
    "test['u_in_lag_back2'] = test.groupby('breath_id')['u_in'].shift(-2)\n",
    "test['u_out_lag_back2'] = test.groupby('breath_id')['u_out'].shift(-2)\n",
    "test['u_in_lag3'] = test.groupby('breath_id')['u_in'].shift(3)\n",
    "test['u_out_lag3'] = test.groupby('breath_id')['u_out'].shift(3)\n",
    "test['u_in_lag_back3'] = test.groupby('breath_id')['u_in'].shift(-3)\n",
    "test['u_out_lag_back3'] = test.groupby('breath_id')['u_out'].shift(-3)\n",
    "test = test.fillna(0)\n",
    "test['R__C'] = test[\"R\"].astype(str) + '__' + test[\"C\"].astype(str)\n",
    "\n",
    "test['breath_id__u_in__max'] = test.groupby(['breath_id'])['u_in'].transform('max')\n",
    "test['breath_id__u_out__max'] = test.groupby(['breath_id'])['u_out'].transform('max')\n",
    "\n",
    "test['u_in_diff1'] = test['u_in'] - test['u_in_lag1']\n",
    "test['u_out_diff1'] = test['u_out'] - test['u_out_lag1']\n",
    "test['u_in_diff2'] = test['u_in'] - test['u_in_lag2']\n",
    "test['u_out_diff2'] = test['u_out'] - test['u_out_lag2']\n",
    "test.loc[test['time_step'] == 0, 'u_in_diff'] = 0\n",
    "test.loc[test['time_step'] == 0, 'u_out_diff'] = 0\n",
    "\n",
    "test['breath_id__u_in__diffmax'] = test.groupby(['breath_id'])['u_in'].transform('max') - test['u_in']\n",
    "test['breath_id__u_in__diffmean'] = test.groupby(['breath_id'])['u_in'].transform('mean') - test['u_in']\n",
    "\n",
    "test = test.merge(pd.get_dummies(test['R'], prefix='R'), left_index=True, right_index=True).drop(['R'], axis=1)\n",
    "test = test.merge(pd.get_dummies(test['C'], prefix='C'), left_index=True, right_index=True).drop(['C'], axis=1)\n",
    "test = test.merge(pd.get_dummies(test['R__C'], prefix='R__C'), left_index=True, right_index=True).drop(['R__C'], axis=1)\n",
    "\n",
    "test['u_in_cumsum'] = test.groupby(['breath_id'])['u_in'].cumsum()\n",
    "test['time_step_cumsum'] = test.groupby(['breath_id'])['time_step'].cumsum()"
   ]
  },
  {
   "cell_type": "code",
   "execution_count": 10,
   "metadata": {},
   "outputs": [
    {
     "name": "stdout",
     "output_type": "stream",
     "text": [
      "(6036000, 46)\n"
     ]
    }
   ],
   "source": [
    "train.isna().sum()\n",
    "print(train.shape)"
   ]
  },
  {
   "cell_type": "code",
   "execution_count": 11,
   "metadata": {},
   "outputs": [],
   "source": [
    "features_train = train.drop(['pressure', 'id', 'breath_id'], axis = 1)\n",
    "features_test = test.drop([ 'id', 'breath_id'], axis = 1)"
   ]
  },
  {
   "cell_type": "code",
   "execution_count": 12,
   "metadata": {},
   "outputs": [
    {
     "name": "stdout",
     "output_type": "stream",
     "text": [
      "         time_step       u_in  u_out  last_value_u_in  u_in_lag1  u_out_lag1  \\\n",
      "0         0.000000   0.083334      0         4.987079   0.000000         0.0   \n",
      "1         0.033652  18.383041      0         4.987079   0.083334         0.0   \n",
      "2         0.067514  22.509278      0         4.987079  18.383041         0.0   \n",
      "3         0.101542  22.808822      0         4.987079  22.509278         0.0   \n",
      "4         0.135756  25.355850      0         4.987079  22.808822         0.0   \n",
      "...            ...        ...    ...              ...        ...         ...   \n",
      "6035995   2.504603   1.489714      1         1.482739   1.420711         1.0   \n",
      "6035996   2.537961   1.488497      1         1.482739   1.489714         1.0   \n",
      "6035997   2.571408   1.558978      1         1.482739   1.488497         1.0   \n",
      "6035998   2.604744   1.272663      1         1.482739   1.558978         1.0   \n",
      "6035999   2.638017   1.482739      1         1.482739   1.272663         1.0   \n",
      "\n",
      "         u_in_lag_back1  u_out_lag_back1  u_in_lag2  u_out_lag2  ...  \\\n",
      "0             18.383041              0.0   0.000000         0.0  ...   \n",
      "1             22.509278              0.0   0.000000         0.0  ...   \n",
      "2             22.808822              0.0   0.083334         0.0  ...   \n",
      "3             25.355850              0.0  18.383041         0.0  ...   \n",
      "4             27.259866              0.0  22.509278         0.0  ...   \n",
      "...                 ...              ...        ...         ...  ...   \n",
      "6035995        1.488497              1.0   1.353205         1.0  ...   \n",
      "6035996        1.558978              1.0   1.420711         1.0  ...   \n",
      "6035997        1.272663              1.0   1.489714         1.0  ...   \n",
      "6035998        1.482739              1.0   1.488497         1.0  ...   \n",
      "6035999        0.000000              0.0   1.558978         1.0  ...   \n",
      "\n",
      "         R__C_20__20  R__C_20__50  R__C_50__10  R__C_50__20  R__C_50__50  \\\n",
      "0                  0            1            0            0            0   \n",
      "1                  0            1            0            0            0   \n",
      "2                  0            1            0            0            0   \n",
      "3                  0            1            0            0            0   \n",
      "4                  0            1            0            0            0   \n",
      "...              ...          ...          ...          ...          ...   \n",
      "6035995            0            0            1            0            0   \n",
      "6035996            0            0            1            0            0   \n",
      "6035997            0            0            1            0            0   \n",
      "6035998            0            0            1            0            0   \n",
      "6035999            0            0            1            0            0   \n",
      "\n",
      "         R__C_5__10  R__C_5__20  R__C_5__50  u_in_cumsum  time_step_cumsum  \n",
      "0                 0           0           0     0.083334          0.000000  \n",
      "1                 0           0           0    18.466375          0.033652  \n",
      "2                 0           0           0    40.975653          0.101167  \n",
      "3                 0           0           0    63.784476          0.202709  \n",
      "4                 0           0           0    89.140326          0.338464  \n",
      "...             ...         ...         ...          ...               ...  \n",
      "6035995           0           0           0   387.109297         95.147046  \n",
      "6035996           0           0           0   388.597794         97.685006  \n",
      "6035997           0           0           0   390.156772        100.256414  \n",
      "6035998           0           0           0   391.429435        102.861158  \n",
      "6035999           0           0           0   392.912174        105.499176  \n",
      "\n",
      "[6036000 rows x 43 columns]\n"
     ]
    }
   ],
   "source": [
    "print(features_train)"
   ]
  },
  {
   "cell_type": "code",
   "execution_count": 13,
   "metadata": {},
   "outputs": [],
   "source": [
    "features_train = features_train.fillna(0)\n",
    "features_test = features_test.fillna(0)"
   ]
  },
  {
   "cell_type": "code",
   "execution_count": 14,
   "metadata": {},
   "outputs": [
    {
     "name": "stdout",
     "output_type": "stream",
     "text": [
      "         time_step       u_in  u_out  last_value_u_in  u_in_lag1  u_out_lag1  \\\n",
      "0         0.000000   0.083334      0         4.987079   0.000000         0.0   \n",
      "1         0.033652  18.383041      0         4.987079   0.083334         0.0   \n",
      "2         0.067514  22.509278      0         4.987079  18.383041         0.0   \n",
      "3         0.101542  22.808822      0         4.987079  22.509278         0.0   \n",
      "4         0.135756  25.355850      0         4.987079  22.808822         0.0   \n",
      "...            ...        ...    ...              ...        ...         ...   \n",
      "6035995   2.504603   1.489714      1         1.482739   1.420711         1.0   \n",
      "6035996   2.537961   1.488497      1         1.482739   1.489714         1.0   \n",
      "6035997   2.571408   1.558978      1         1.482739   1.488497         1.0   \n",
      "6035998   2.604744   1.272663      1         1.482739   1.558978         1.0   \n",
      "6035999   2.638017   1.482739      1         1.482739   1.272663         1.0   \n",
      "\n",
      "         u_in_lag_back1  u_out_lag_back1  u_in_lag2  u_out_lag2  ...  \\\n",
      "0             18.383041              0.0   0.000000         0.0  ...   \n",
      "1             22.509278              0.0   0.000000         0.0  ...   \n",
      "2             22.808822              0.0   0.083334         0.0  ...   \n",
      "3             25.355850              0.0  18.383041         0.0  ...   \n",
      "4             27.259866              0.0  22.509278         0.0  ...   \n",
      "...                 ...              ...        ...         ...  ...   \n",
      "6035995        1.488497              1.0   1.353205         1.0  ...   \n",
      "6035996        1.558978              1.0   1.420711         1.0  ...   \n",
      "6035997        1.272663              1.0   1.489714         1.0  ...   \n",
      "6035998        1.482739              1.0   1.488497         1.0  ...   \n",
      "6035999        0.000000              0.0   1.558978         1.0  ...   \n",
      "\n",
      "         R__C_20__20  R__C_20__50  R__C_50__10  R__C_50__20  R__C_50__50  \\\n",
      "0                  0            1            0            0            0   \n",
      "1                  0            1            0            0            0   \n",
      "2                  0            1            0            0            0   \n",
      "3                  0            1            0            0            0   \n",
      "4                  0            1            0            0            0   \n",
      "...              ...          ...          ...          ...          ...   \n",
      "6035995            0            0            1            0            0   \n",
      "6035996            0            0            1            0            0   \n",
      "6035997            0            0            1            0            0   \n",
      "6035998            0            0            1            0            0   \n",
      "6035999            0            0            1            0            0   \n",
      "\n",
      "         R__C_5__10  R__C_5__20  R__C_5__50  u_in_cumsum  time_step_cumsum  \n",
      "0                 0           0           0     0.083334          0.000000  \n",
      "1                 0           0           0    18.466375          0.033652  \n",
      "2                 0           0           0    40.975653          0.101167  \n",
      "3                 0           0           0    63.784476          0.202709  \n",
      "4                 0           0           0    89.140326          0.338464  \n",
      "...             ...         ...         ...          ...               ...  \n",
      "6035995           0           0           0   387.109297         95.147046  \n",
      "6035996           0           0           0   388.597794         97.685006  \n",
      "6035997           0           0           0   390.156772        100.256414  \n",
      "6035998           0           0           0   391.429435        102.861158  \n",
      "6035999           0           0           0   392.912174        105.499176  \n",
      "\n",
      "[6036000 rows x 43 columns]\n"
     ]
    }
   ],
   "source": [
    "print(features_train)"
   ]
  },
  {
   "cell_type": "code",
   "execution_count": 15,
   "metadata": {
    "id": "dU8fYI3X7f7j"
   },
   "outputs": [
    {
     "data": {
      "text/plain": [
       "time_step                    0\n",
       "u_in                         0\n",
       "u_out                        0\n",
       "last_value_u_in              0\n",
       "u_in_lag1                    0\n",
       "u_out_lag1                   0\n",
       "u_in_lag_back1               0\n",
       "u_out_lag_back1              0\n",
       "u_in_lag2                    0\n",
       "u_out_lag2                   0\n",
       "u_in_lag_back2               0\n",
       "u_out_lag_back2              0\n",
       "u_in_lag3                    0\n",
       "u_out_lag3                   0\n",
       "u_in_lag_back3               0\n",
       "u_out_lag_back3              0\n",
       "breath_id__u_in__max         0\n",
       "breath_id__u_out__max        0\n",
       "u_in_diff1                   0\n",
       "u_out_diff1                  0\n",
       "u_in_diff2                   0\n",
       "u_out_diff2                  0\n",
       "u_in_diff                    0\n",
       "u_out_diff                   0\n",
       "breath_id__u_in__diffmax     0\n",
       "breath_id__u_in__diffmean    0\n",
       "R_5                          0\n",
       "R_20                         0\n",
       "R_50                         0\n",
       "C_10                         0\n",
       "C_20                         0\n",
       "C_50                         0\n",
       "R__C_20__10                  0\n",
       "R__C_20__20                  0\n",
       "R__C_20__50                  0\n",
       "R__C_50__10                  0\n",
       "R__C_50__20                  0\n",
       "R__C_50__50                  0\n",
       "R__C_5__10                   0\n",
       "R__C_5__20                   0\n",
       "R__C_5__50                   0\n",
       "u_in_cumsum                  0\n",
       "time_step_cumsum             0\n",
       "dtype: int64"
      ]
     },
     "execution_count": 15,
     "metadata": {},
     "output_type": "execute_result"
    }
   ],
   "source": [
    "\n",
    "target = train['pressure']\n",
    "features_train.isna().sum()"
   ]
  },
  {
   "cell_type": "code",
   "execution_count": null,
   "metadata": {},
   "outputs": [],
   "source": []
  },
  {
   "cell_type": "code",
   "execution_count": 16,
   "metadata": {
    "colab": {
     "base_uri": "https://localhost:8080/",
     "height": 300
    },
    "id": "8PnHvyOl7f7j",
    "outputId": "e3532eb0-94b9-49a2-a336-6c57c0cec98f"
   },
   "outputs": [
    {
     "name": "stdout",
     "output_type": "stream",
     "text": [
      "         time_step       u_in  u_out  last_value_u_in  u_in_lag1  u_out_lag1  \\\n",
      "0         0.000000   0.083334      0         4.987079   0.000000         0.0   \n",
      "1         0.033652  18.383041      0         4.987079   0.083334         0.0   \n",
      "2         0.067514  22.509278      0         4.987079  18.383041         0.0   \n",
      "3         0.101542  22.808822      0         4.987079  22.509278         0.0   \n",
      "4         0.135756  25.355850      0         4.987079  22.808822         0.0   \n",
      "...            ...        ...    ...              ...        ...         ...   \n",
      "6035995   2.504603   1.489714      1         1.482739   1.420711         1.0   \n",
      "6035996   2.537961   1.488497      1         1.482739   1.489714         1.0   \n",
      "6035997   2.571408   1.558978      1         1.482739   1.488497         1.0   \n",
      "6035998   2.604744   1.272663      1         1.482739   1.558978         1.0   \n",
      "6035999   2.638017   1.482739      1         1.482739   1.272663         1.0   \n",
      "\n",
      "         u_in_lag_back1  u_out_lag_back1  u_in_lag2  u_out_lag2  ...  \\\n",
      "0             18.383041              0.0   0.000000         0.0  ...   \n",
      "1             22.509278              0.0   0.000000         0.0  ...   \n",
      "2             22.808822              0.0   0.083334         0.0  ...   \n",
      "3             25.355850              0.0  18.383041         0.0  ...   \n",
      "4             27.259866              0.0  22.509278         0.0  ...   \n",
      "...                 ...              ...        ...         ...  ...   \n",
      "6035995        1.488497              1.0   1.353205         1.0  ...   \n",
      "6035996        1.558978              1.0   1.420711         1.0  ...   \n",
      "6035997        1.272663              1.0   1.489714         1.0  ...   \n",
      "6035998        1.482739              1.0   1.488497         1.0  ...   \n",
      "6035999        0.000000              0.0   1.558978         1.0  ...   \n",
      "\n",
      "         R__C_20__20  R__C_20__50  R__C_50__10  R__C_50__20  R__C_50__50  \\\n",
      "0                  0            1            0            0            0   \n",
      "1                  0            1            0            0            0   \n",
      "2                  0            1            0            0            0   \n",
      "3                  0            1            0            0            0   \n",
      "4                  0            1            0            0            0   \n",
      "...              ...          ...          ...          ...          ...   \n",
      "6035995            0            0            1            0            0   \n",
      "6035996            0            0            1            0            0   \n",
      "6035997            0            0            1            0            0   \n",
      "6035998            0            0            1            0            0   \n",
      "6035999            0            0            1            0            0   \n",
      "\n",
      "         R__C_5__10  R__C_5__20  R__C_5__50  u_in_cumsum  time_step_cumsum  \n",
      "0                 0           0           0     0.083334          0.000000  \n",
      "1                 0           0           0    18.466375          0.033652  \n",
      "2                 0           0           0    40.975653          0.101167  \n",
      "3                 0           0           0    63.784476          0.202709  \n",
      "4                 0           0           0    89.140326          0.338464  \n",
      "...             ...         ...         ...          ...               ...  \n",
      "6035995           0           0           0   387.109297         95.147046  \n",
      "6035996           0           0           0   388.597794         97.685006  \n",
      "6035997           0           0           0   390.156772        100.256414  \n",
      "6035998           0           0           0   391.429435        102.861158  \n",
      "6035999           0           0           0   392.912174        105.499176  \n",
      "\n",
      "[6036000 rows x 43 columns]\n"
     ]
    }
   ],
   "source": [
    "print(features_train)"
   ]
  },
  {
   "cell_type": "code",
   "execution_count": 17,
   "metadata": {
    "colab": {
     "base_uri": "https://localhost:8080/"
    },
    "id": "oOMfE67eu2_w",
    "outputId": "9195b653-a98e-4770-bf69-298c21bc6280"
   },
   "outputs": [
    {
     "data": {
      "text/plain": [
       "(6036000, 43)"
      ]
     },
     "execution_count": 17,
     "metadata": {},
     "output_type": "execute_result"
    }
   ],
   "source": [
    "features_train = np.array(features_train)\n",
    "features_test = np.array(features_test)\n",
    "features_train.shape"
   ]
  },
  {
   "cell_type": "code",
   "execution_count": 18,
   "metadata": {
    "colab": {
     "base_uri": "https://localhost:8080/"
    },
    "id": "VN2H5jAQPJPh",
    "outputId": "717e107d-c123-4a5e-c7e9-d0a0678f47e1"
   },
   "outputs": [
    {
     "data": {
      "text/plain": [
       "(75450, 80, 43)"
      ]
     },
     "execution_count": 18,
     "metadata": {},
     "output_type": "execute_result"
    }
   ],
   "source": [
    "features_train = features_train.reshape(int(features_train.shape[0]/80), 80, features_train.shape[1])\n",
    "features_test = features_test.reshape(int(features_test.shape[0]/80), 80, features_test.shape[1])\n",
    "features_train.shape"
   ]
  },
  {
   "cell_type": "code",
   "execution_count": 19,
   "metadata": {
    "colab": {
     "base_uri": "https://localhost:8080/"
    },
    "id": "gDZ3O9iLPTEQ",
    "outputId": "b1b0375e-d52f-4934-e925-de6ee5086004"
   },
   "outputs": [
    {
     "data": {
      "text/plain": [
       "(6036000,)"
      ]
     },
     "execution_count": 19,
     "metadata": {},
     "output_type": "execute_result"
    }
   ],
   "source": [
    "target = np.array(target)\n",
    "target.shape"
   ]
  },
  {
   "cell_type": "code",
   "execution_count": 20,
   "metadata": {
    "colab": {
     "base_uri": "https://localhost:8080/"
    },
    "id": "OKrwancoPofT",
    "outputId": "702b93af-647e-4855-d95a-b21491a1b4f6"
   },
   "outputs": [
    {
     "data": {
      "text/plain": [
       "(75450, 80)"
      ]
     },
     "execution_count": 20,
     "metadata": {},
     "output_type": "execute_result"
    }
   ],
   "source": [
    "target = target.reshape(-1, 80)\n",
    "target.shape"
   ]
  },
  {
   "cell_type": "markdown",
   "metadata": {
    "id": "Oh7NTJOnf_cR"
   },
   "source": [
    "# Deep Learning Model"
   ]
  },
  {
   "cell_type": "code",
   "execution_count": 21,
   "metadata": {
    "id": "AowWVhfF7f7l"
   },
   "outputs": [],
   "source": [
    "norm = tf.keras.layers.Normalization(input_shape = [80, features_train.shape[2],], axis = -1)\n",
    "norm.adapt(features_train)"
   ]
  },
  {
   "cell_type": "code",
   "execution_count": 22,
   "metadata": {
    "id": "SVBGuvnwwsJG"
   },
   "outputs": [],
   "source": [
    "my_model = tf.keras.Sequential([\n",
    "    norm,\n",
    "    tf.keras.layers.Conv1D(128, 3, activation = \"relu\"),\n",
    "    tf.keras.layers.MaxPooling1D(),\n",
    "    tf.keras.layers.BatchNormalization(),\n",
    "    tf.keras.layers.Conv1D(256, 3, activation = \"relu\"),\n",
    "    tf.keras.layers.MaxPooling1D(),\n",
    "    tf.keras.layers.BatchNormalization(),\n",
    "    tf.keras.layers.Conv1D(256, 3, activation = \"relu\"),\n",
    "    tf.keras.layers.MaxPooling1D(),\n",
    "    tf.keras.layers.BatchNormalization(),\n",
    "    tf.keras.layers.Bidirectional(tf.keras.layers.LSTM(512, return_sequences = True)),\n",
    "    tf.keras.layers.Bidirectional(tf.keras.layers.LSTM(512, return_sequences = True)),\n",
    "    tf.keras.layers.GlobalAveragePooling1D(),\n",
    "    tf.keras.layers.Dropout(0.5),\n",
    "    tf.keras.layers.Dense(80,)\n",
    "])\n",
    "my_model.compile(optimizer=tf.optimizers.Adam(learning_rate=0.001), loss= \"mae\", metrics =[tf.keras.metrics.RootMeanSquaredError()])"
   ]
  },
  {
   "cell_type": "code",
   "execution_count": 23,
   "metadata": {},
   "outputs": [],
   "source": [
    "my_model.load_weights('weights.hdf5')"
   ]
  },
  {
   "cell_type": "code",
   "execution_count": 24,
   "metadata": {
    "colab": {
     "base_uri": "https://localhost:8080/"
    },
    "id": "ExXZtXYQvGDv",
    "outputId": "09bc8349-eef9-4097-cee5-686c848374d3"
   },
   "outputs": [
    {
     "name": "stdout",
     "output_type": "stream",
     "text": [
      "Model: \"sequential\"\n",
      "_________________________________________________________________\n",
      " Layer (type)                Output Shape              Param #   \n",
      "=================================================================\n",
      " normalization (Normalizatio  (None, 80, 43)           87        \n",
      " n)                                                              \n",
      "                                                                 \n",
      " conv1d (Conv1D)             (None, 78, 128)           16640     \n",
      "                                                                 \n",
      " max_pooling1d (MaxPooling1D  (None, 39, 128)          0         \n",
      " )                                                               \n",
      "                                                                 \n",
      " batch_normalization (BatchN  (None, 39, 128)          512       \n",
      " ormalization)                                                   \n",
      "                                                                 \n",
      " conv1d_1 (Conv1D)           (None, 37, 256)           98560     \n",
      "                                                                 \n",
      " max_pooling1d_1 (MaxPooling  (None, 18, 256)          0         \n",
      " 1D)                                                             \n",
      "                                                                 \n",
      " batch_normalization_1 (Batc  (None, 18, 256)          1024      \n",
      " hNormalization)                                                 \n",
      "                                                                 \n",
      " conv1d_2 (Conv1D)           (None, 16, 256)           196864    \n",
      "                                                                 \n",
      " max_pooling1d_2 (MaxPooling  (None, 8, 256)           0         \n",
      " 1D)                                                             \n",
      "                                                                 \n",
      " batch_normalization_2 (Batc  (None, 8, 256)           1024      \n",
      " hNormalization)                                                 \n",
      "                                                                 \n",
      " bidirectional (Bidirectiona  (None, 8, 1024)          3149824   \n",
      " l)                                                              \n",
      "                                                                 \n",
      " bidirectional_1 (Bidirectio  (None, 8, 1024)          6295552   \n",
      " nal)                                                            \n",
      "                                                                 \n",
      " global_average_pooling1d (G  (None, 1024)             0         \n",
      " lobalAveragePooling1D)                                          \n",
      "                                                                 \n",
      " dropout (Dropout)           (None, 1024)              0         \n",
      "                                                                 \n",
      " dense (Dense)               (None, 80)                82000     \n",
      "                                                                 \n",
      "=================================================================\n",
      "Total params: 9,842,087\n",
      "Trainable params: 9,840,720\n",
      "Non-trainable params: 1,367\n",
      "_________________________________________________________________\n"
     ]
    }
   ],
   "source": [
    "my_model.summary()"
   ]
  },
  {
   "cell_type": "markdown",
   "metadata": {
    "id": "VqR1X9O-gEnZ"
   },
   "source": [
    "# Training Model"
   ]
  },
  {
   "cell_type": "code",
   "execution_count": 25,
   "metadata": {},
   "outputs": [],
   "source": [
    "from tensorflow.keras.callbacks import EarlyStopping\n",
    "from tensorflow.keras.callbacks import ModelCheckpoint\n",
    "checkpoint = ModelCheckpoint('weights.hdf5', monitor='val_loss', save_best_only=True)\n",
    "from tensorflow.keras.callbacks import ReduceLROnPlateau\n",
    "reduce_lr = ReduceLROnPlateau(monitor='val_loss', mode='min', verbose=0, patience=200,factor=0.2)\n",
    "es = EarlyStopping(monitor = 'val_loss', patience = 250)"
   ]
  },
  {
   "cell_type": "code",
   "execution_count": 26,
   "metadata": {},
   "outputs": [],
   "source": [
    "model1 = tf.keras.models.load_model('Ventilator_Pressure_Prediction1.h5')"
   ]
  },
  {
   "cell_type": "code",
   "execution_count": 27,
   "metadata": {},
   "outputs": [],
   "source": [
    "model1.compile(optimizer=tf.optimizers.Adam(learning_rate=0.001), loss= \"mae\", metrics =[tf.keras.metrics.RootMeanSquaredError()])"
   ]
  },
  {
   "cell_type": "code",
   "execution_count": 30,
   "metadata": {
    "colab": {
     "base_uri": "https://localhost:8080/"
    },
    "id": "uwmQtu1b7f7m",
    "outputId": "3602c41d-620c-4413-9aa8-5bd050e2ac08",
    "scrolled": true
   },
   "outputs": [
    {
     "name": "stdout",
     "output_type": "stream",
     "text": [
      "Epoch 1/100\n",
      "118/118 [==============================] - 51s 246ms/step - loss: 0.8157 - root_mean_squared_error: 1.5973 - val_loss: 1.3755 - val_root_mean_squared_error: 2.8131 - lr: 0.0010\n",
      "Epoch 2/100\n",
      "118/118 [==============================] - 27s 226ms/step - loss: 0.5420 - root_mean_squared_error: 0.9442 - val_loss: 0.9469 - val_root_mean_squared_error: 2.2128 - lr: 0.0010\n",
      "Epoch 3/100\n",
      "118/118 [==============================] - 27s 227ms/step - loss: 0.4936 - root_mean_squared_error: 0.8561 - val_loss: 0.5359 - val_root_mean_squared_error: 1.1126 - lr: 0.0010\n",
      "Epoch 4/100\n",
      "118/118 [==============================] - 26s 219ms/step - loss: 0.4636 - root_mean_squared_error: 0.7945 - val_loss: 0.4006 - val_root_mean_squared_error: 0.7115 - lr: 0.0010\n",
      "Epoch 5/100\n",
      "118/118 [==============================] - 26s 221ms/step - loss: 0.4513 - root_mean_squared_error: 0.7721 - val_loss: 0.3872 - val_root_mean_squared_error: 0.6919 - lr: 0.0010\n",
      "Epoch 6/100\n",
      "118/118 [==============================] - 26s 219ms/step - loss: 0.4379 - root_mean_squared_error: 0.7479 - val_loss: 0.3687 - val_root_mean_squared_error: 0.6557 - lr: 0.0010\n",
      "Epoch 7/100\n",
      "118/118 [==============================] - 26s 220ms/step - loss: 0.4303 - root_mean_squared_error: 0.7343 - val_loss: 0.3871 - val_root_mean_squared_error: 0.7004 - lr: 0.0010\n",
      "Epoch 8/100\n",
      "118/118 [==============================] - 26s 222ms/step - loss: 0.4256 - root_mean_squared_error: 0.7271 - val_loss: 0.3606 - val_root_mean_squared_error: 0.6430 - lr: 0.0010\n",
      "Epoch 9/100\n",
      "118/118 [==============================] - 26s 223ms/step - loss: 0.4194 - root_mean_squared_error: 0.7155 - val_loss: 0.3549 - val_root_mean_squared_error: 0.6339 - lr: 0.0010\n",
      "Epoch 10/100\n",
      "118/118 [==============================] - 27s 228ms/step - loss: 0.4154 - root_mean_squared_error: 0.7077 - val_loss: 0.3500 - val_root_mean_squared_error: 0.6275 - lr: 0.0010\n",
      "Epoch 11/100\n",
      "118/118 [==============================] - 26s 221ms/step - loss: 0.4108 - root_mean_squared_error: 0.6988 - val_loss: 0.3507 - val_root_mean_squared_error: 0.6296 - lr: 0.0010\n",
      "Epoch 12/100\n",
      "118/118 [==============================] - 26s 223ms/step - loss: 0.4089 - root_mean_squared_error: 0.6997 - val_loss: 0.3449 - val_root_mean_squared_error: 0.6190 - lr: 0.0010\n",
      "Epoch 13/100\n",
      "118/118 [==============================] - 26s 224ms/step - loss: 0.4052 - root_mean_squared_error: 0.6912 - val_loss: 0.3388 - val_root_mean_squared_error: 0.6056 - lr: 0.0010\n",
      "Epoch 14/100\n",
      "118/118 [==============================] - 26s 221ms/step - loss: 0.4014 - root_mean_squared_error: 0.6836 - val_loss: 0.3407 - val_root_mean_squared_error: 0.6112 - lr: 0.0010\n",
      "Epoch 15/100\n",
      "118/118 [==============================] - 26s 223ms/step - loss: 0.4002 - root_mean_squared_error: 0.6818 - val_loss: 0.3380 - val_root_mean_squared_error: 0.6083 - lr: 0.0010\n",
      "Epoch 16/100\n",
      "118/118 [==============================] - 26s 223ms/step - loss: 0.3977 - root_mean_squared_error: 0.6790 - val_loss: 0.3833 - val_root_mean_squared_error: 0.8502 - lr: 0.0010\n",
      "Epoch 17/100\n",
      "118/118 [==============================] - 27s 225ms/step - loss: 0.3998 - root_mean_squared_error: 0.6902 - val_loss: 0.3372 - val_root_mean_squared_error: 0.6068 - lr: 0.0010\n",
      "Epoch 18/100\n",
      "118/118 [==============================] - 26s 223ms/step - loss: 0.3951 - root_mean_squared_error: 0.6737 - val_loss: 0.3400 - val_root_mean_squared_error: 0.6158 - lr: 0.0010\n",
      "Epoch 19/100\n",
      "118/118 [==============================] - 27s 228ms/step - loss: 0.3937 - root_mean_squared_error: 0.6728 - val_loss: 0.3328 - val_root_mean_squared_error: 0.5954 - lr: 0.0010\n",
      "Epoch 20/100\n",
      "118/118 [==============================] - 28s 238ms/step - loss: 0.3918 - root_mean_squared_error: 0.6682 - val_loss: 0.3291 - val_root_mean_squared_error: 0.5923 - lr: 0.0010\n",
      "Epoch 21/100\n",
      "118/118 [==============================] - 27s 229ms/step - loss: 0.3897 - root_mean_squared_error: 0.6630 - val_loss: 0.3359 - val_root_mean_squared_error: 0.6071 - lr: 0.0010\n",
      "Epoch 22/100\n",
      "118/118 [==============================] - 27s 225ms/step - loss: 0.3888 - root_mean_squared_error: 0.6623 - val_loss: 0.3250 - val_root_mean_squared_error: 0.5819 - lr: 0.0010\n",
      "Epoch 23/100\n",
      "118/118 [==============================] - 26s 224ms/step - loss: 0.3859 - root_mean_squared_error: 0.6576 - val_loss: 0.3274 - val_root_mean_squared_error: 0.5918 - lr: 0.0010\n",
      "Epoch 24/100\n",
      "118/118 [==============================] - 27s 226ms/step - loss: 0.3839 - root_mean_squared_error: 0.6535 - val_loss: 0.3244 - val_root_mean_squared_error: 0.5811 - lr: 0.0010\n",
      "Epoch 25/100\n",
      "118/118 [==============================] - 26s 222ms/step - loss: 0.3830 - root_mean_squared_error: 0.6533 - val_loss: 0.3248 - val_root_mean_squared_error: 0.5861 - lr: 0.0010\n",
      "Epoch 26/100\n",
      "118/118 [==============================] - 27s 226ms/step - loss: 0.3831 - root_mean_squared_error: 0.6541 - val_loss: 0.3291 - val_root_mean_squared_error: 0.5951 - lr: 0.0010\n",
      "Epoch 27/100\n",
      "118/118 [==============================] - 27s 227ms/step - loss: 0.3806 - root_mean_squared_error: 0.6487 - val_loss: 0.3204 - val_root_mean_squared_error: 0.5763 - lr: 0.0010\n",
      "Epoch 28/100\n",
      "118/118 [==============================] - 27s 226ms/step - loss: 0.3805 - root_mean_squared_error: 0.6493 - val_loss: 0.3226 - val_root_mean_squared_error: 0.5813 - lr: 0.0010\n",
      "Epoch 29/100\n",
      "118/118 [==============================] - 26s 224ms/step - loss: 0.3818 - root_mean_squared_error: 0.6517 - val_loss: 0.3292 - val_root_mean_squared_error: 0.5970 - lr: 0.0010\n",
      "Epoch 30/100\n",
      "118/118 [==============================] - 26s 224ms/step - loss: 0.3800 - root_mean_squared_error: 0.6486 - val_loss: 0.3205 - val_root_mean_squared_error: 0.5771 - lr: 0.0010\n",
      "Epoch 31/100\n",
      "118/118 [==============================] - 26s 223ms/step - loss: 0.3766 - root_mean_squared_error: 0.6417 - val_loss: 0.3254 - val_root_mean_squared_error: 0.5873 - lr: 0.0010\n",
      "Epoch 32/100\n",
      "118/118 [==============================] - 27s 226ms/step - loss: 0.3760 - root_mean_squared_error: 0.6414 - val_loss: 0.3216 - val_root_mean_squared_error: 0.5823 - lr: 0.0010\n",
      "Epoch 33/100\n",
      "118/118 [==============================] - 26s 223ms/step - loss: 0.3763 - root_mean_squared_error: 0.6423 - val_loss: 0.3223 - val_root_mean_squared_error: 0.5921 - lr: 0.0010\n",
      "Epoch 34/100\n",
      "118/118 [==============================] - 26s 224ms/step - loss: 0.3764 - root_mean_squared_error: 0.6437 - val_loss: 0.3227 - val_root_mean_squared_error: 0.5939 - lr: 0.0010\n",
      "Epoch 35/100\n",
      "118/118 [==============================] - 27s 227ms/step - loss: 0.3742 - root_mean_squared_error: 0.6388 - val_loss: 0.3175 - val_root_mean_squared_error: 0.5759 - lr: 0.0010\n",
      "Epoch 36/100\n",
      "118/118 [==============================] - 27s 226ms/step - loss: 0.3766 - root_mean_squared_error: 0.6436 - val_loss: 0.3186 - val_root_mean_squared_error: 0.5760 - lr: 0.0010\n",
      "Epoch 37/100\n",
      "118/118 [==============================] - 27s 226ms/step - loss: 0.3749 - root_mean_squared_error: 0.6391 - val_loss: 0.3243 - val_root_mean_squared_error: 0.5884 - lr: 0.0010\n",
      "Epoch 38/100\n",
      "118/118 [==============================] - 30s 258ms/step - loss: 0.3752 - root_mean_squared_error: 0.6417 - val_loss: 0.3177 - val_root_mean_squared_error: 0.5767 - lr: 0.0010\n",
      "Epoch 39/100\n",
      "118/118 [==============================] - 27s 228ms/step - loss: 0.3716 - root_mean_squared_error: 0.6361 - val_loss: 0.3141 - val_root_mean_squared_error: 0.5665 - lr: 0.0010\n",
      "Epoch 40/100\n",
      "118/118 [==============================] - 26s 225ms/step - loss: 0.3717 - root_mean_squared_error: 0.6360 - val_loss: 0.3145 - val_root_mean_squared_error: 0.5623 - lr: 0.0010\n",
      "Epoch 41/100\n",
      "118/118 [==============================] - 26s 225ms/step - loss: 0.3723 - root_mean_squared_error: 0.6363 - val_loss: 0.3188 - val_root_mean_squared_error: 0.5768 - lr: 0.0010\n",
      "Epoch 42/100\n",
      "118/118 [==============================] - 26s 223ms/step - loss: 0.3748 - root_mean_squared_error: 0.6441 - val_loss: 0.3282 - val_root_mean_squared_error: 0.5950 - lr: 0.0010\n",
      "Epoch 43/100\n",
      "118/118 [==============================] - 26s 225ms/step - loss: 0.3710 - root_mean_squared_error: 0.6351 - val_loss: 0.3228 - val_root_mean_squared_error: 0.5865 - lr: 0.0010\n",
      "Epoch 44/100\n",
      "118/118 [==============================] - 26s 225ms/step - loss: 0.3699 - root_mean_squared_error: 0.6355 - val_loss: 0.3146 - val_root_mean_squared_error: 0.5730 - lr: 0.0010\n",
      "Epoch 45/100\n",
      "118/118 [==============================] - 27s 225ms/step - loss: 0.3682 - root_mean_squared_error: 0.6294 - val_loss: 0.3163 - val_root_mean_squared_error: 0.5742 - lr: 0.0010\n",
      "Epoch 46/100\n",
      "118/118 [==============================] - 26s 225ms/step - loss: 0.3684 - root_mean_squared_error: 0.6301 - val_loss: 0.3159 - val_root_mean_squared_error: 0.5687 - lr: 0.0010\n",
      "Epoch 47/100\n",
      "118/118 [==============================] - 27s 227ms/step - loss: 0.3666 - root_mean_squared_error: 0.6269 - val_loss: 0.3132 - val_root_mean_squared_error: 0.5744 - lr: 0.0010\n",
      "Epoch 48/100\n",
      "118/118 [==============================] - 27s 231ms/step - loss: 0.3701 - root_mean_squared_error: 0.6321 - val_loss: 0.3219 - val_root_mean_squared_error: 0.5929 - lr: 0.0010\n",
      "Epoch 49/100\n",
      "118/118 [==============================] - 28s 239ms/step - loss: 0.3673 - root_mean_squared_error: 0.6296 - val_loss: 0.3126 - val_root_mean_squared_error: 0.5683 - lr: 0.0010\n",
      "Epoch 50/100\n",
      "118/118 [==============================] - 31s 262ms/step - loss: 0.3664 - root_mean_squared_error: 0.6272 - val_loss: 0.3130 - val_root_mean_squared_error: 0.5685 - lr: 0.0010\n",
      "Epoch 51/100\n",
      "118/118 [==============================] - 32s 269ms/step - loss: 0.3662 - root_mean_squared_error: 0.6253 - val_loss: 0.3128 - val_root_mean_squared_error: 0.5758 - lr: 0.0010\n",
      "Epoch 52/100\n",
      "118/118 [==============================] - 30s 251ms/step - loss: 0.3670 - root_mean_squared_error: 0.6289 - val_loss: 0.3123 - val_root_mean_squared_error: 0.5726 - lr: 0.0010\n",
      "Epoch 53/100\n",
      "118/118 [==============================] - 26s 224ms/step - loss: 0.3669 - root_mean_squared_error: 0.6290 - val_loss: 0.3142 - val_root_mean_squared_error: 0.5666 - lr: 0.0010\n",
      "Epoch 54/100\n",
      "118/118 [==============================] - 27s 227ms/step - loss: 0.3699 - root_mean_squared_error: 0.6352 - val_loss: 0.3408 - val_root_mean_squared_error: 0.6334 - lr: 0.0010\n",
      "Epoch 55/100\n",
      "118/118 [==============================] - 26s 224ms/step - loss: 0.3681 - root_mean_squared_error: 0.6306 - val_loss: 0.3143 - val_root_mean_squared_error: 0.5737 - lr: 0.0010\n",
      "Epoch 56/100\n",
      "118/118 [==============================] - 27s 226ms/step - loss: 0.3665 - root_mean_squared_error: 0.6298 - val_loss: 0.3178 - val_root_mean_squared_error: 0.5768 - lr: 0.0010\n",
      "Epoch 57/100\n",
      "118/118 [==============================] - 28s 236ms/step - loss: 0.3651 - root_mean_squared_error: 0.6260 - val_loss: 0.3144 - val_root_mean_squared_error: 0.5685 - lr: 0.0010\n",
      "Epoch 58/100\n",
      "118/118 [==============================] - 28s 242ms/step - loss: 0.3633 - root_mean_squared_error: 0.6226 - val_loss: 0.3097 - val_root_mean_squared_error: 0.5609 - lr: 0.0010\n",
      "Epoch 59/100\n",
      "118/118 [==============================] - 28s 241ms/step - loss: 0.3632 - root_mean_squared_error: 0.6217 - val_loss: 0.3054 - val_root_mean_squared_error: 0.5529 - lr: 0.0010\n",
      "Epoch 60/100\n",
      "118/118 [==============================] - 27s 227ms/step - loss: 0.3641 - root_mean_squared_error: 0.6239 - val_loss: 0.3120 - val_root_mean_squared_error: 0.5666 - lr: 0.0010\n",
      "Epoch 61/100\n",
      "118/118 [==============================] - 32s 275ms/step - loss: 0.3634 - root_mean_squared_error: 0.6235 - val_loss: 0.3089 - val_root_mean_squared_error: 0.5612 - lr: 0.0010\n",
      "Epoch 62/100\n",
      "118/118 [==============================] - 27s 233ms/step - loss: 0.3620 - root_mean_squared_error: 0.6197 - val_loss: 0.3105 - val_root_mean_squared_error: 0.5617 - lr: 0.0010\n",
      "Epoch 63/100\n",
      "118/118 [==============================] - 27s 230ms/step - loss: 0.3621 - root_mean_squared_error: 0.6206 - val_loss: 0.3109 - val_root_mean_squared_error: 0.5617 - lr: 0.0010\n",
      "Epoch 64/100\n",
      "118/118 [==============================] - 27s 226ms/step - loss: 0.3619 - root_mean_squared_error: 0.6204 - val_loss: 0.3068 - val_root_mean_squared_error: 0.5552 - lr: 0.0010\n",
      "Epoch 65/100\n",
      "118/118 [==============================] - 27s 225ms/step - loss: 0.3612 - root_mean_squared_error: 0.6192 - val_loss: 0.3083 - val_root_mean_squared_error: 0.5593 - lr: 0.0010\n",
      "Epoch 66/100\n",
      "118/118 [==============================] - 26s 225ms/step - loss: 0.3604 - root_mean_squared_error: 0.6184 - val_loss: 0.3097 - val_root_mean_squared_error: 0.5617 - lr: 0.0010\n",
      "Epoch 67/100\n",
      "118/118 [==============================] - 26s 224ms/step - loss: 0.3650 - root_mean_squared_error: 0.6317 - val_loss: 0.3416 - val_root_mean_squared_error: 0.6364 - lr: 0.0010\n",
      "Epoch 68/100\n",
      "118/118 [==============================] - 27s 228ms/step - loss: 0.3655 - root_mean_squared_error: 0.6298 - val_loss: 0.3101 - val_root_mean_squared_error: 0.5751 - lr: 0.0010\n",
      "Epoch 69/100\n",
      "118/118 [==============================] - 29s 244ms/step - loss: 0.3621 - root_mean_squared_error: 0.6235 - val_loss: 0.3094 - val_root_mean_squared_error: 0.5667 - lr: 0.0010\n",
      "Epoch 70/100\n",
      "118/118 [==============================] - 27s 227ms/step - loss: 0.3602 - root_mean_squared_error: 0.6195 - val_loss: 0.3113 - val_root_mean_squared_error: 0.5711 - lr: 0.0010\n",
      "Epoch 71/100\n",
      "118/118 [==============================] - 27s 227ms/step - loss: 0.3610 - root_mean_squared_error: 0.6187 - val_loss: 0.3081 - val_root_mean_squared_error: 0.5655 - lr: 0.0010\n",
      "Epoch 72/100\n",
      "118/118 [==============================] - 27s 227ms/step - loss: 0.3628 - root_mean_squared_error: 0.6253 - val_loss: 0.3100 - val_root_mean_squared_error: 0.5625 - lr: 0.0010\n",
      "Epoch 73/100\n",
      "118/118 [==============================] - 27s 227ms/step - loss: 0.3614 - root_mean_squared_error: 0.6214 - val_loss: 0.3044 - val_root_mean_squared_error: 0.5524 - lr: 0.0010\n",
      "Epoch 74/100\n",
      "118/118 [==============================] - 27s 230ms/step - loss: 0.3596 - root_mean_squared_error: 0.6182 - val_loss: 0.3081 - val_root_mean_squared_error: 0.5604 - lr: 0.0010\n",
      "Epoch 75/100\n",
      "118/118 [==============================] - 27s 232ms/step - loss: 0.3584 - root_mean_squared_error: 0.6145 - val_loss: 0.3111 - val_root_mean_squared_error: 0.5673 - lr: 0.0010\n",
      "Epoch 76/100\n",
      "118/118 [==============================] - 28s 238ms/step - loss: 0.3577 - root_mean_squared_error: 0.6139 - val_loss: 0.3052 - val_root_mean_squared_error: 0.5541 - lr: 0.0010\n",
      "Epoch 77/100\n",
      "118/118 [==============================] - 27s 226ms/step - loss: 0.3576 - root_mean_squared_error: 0.6130 - val_loss: 0.3068 - val_root_mean_squared_error: 0.5611 - lr: 0.0010 root_mean_square\n",
      "Epoch 78/100\n",
      "118/118 [==============================] - 27s 231ms/step - loss: 0.3583 - root_mean_squared_error: 0.6143 - val_loss: 0.3077 - val_root_mean_squared_error: 0.5614 - lr: 0.0010\n",
      "Epoch 79/100\n",
      "118/118 [==============================] - 28s 234ms/step - loss: 0.3576 - root_mean_squared_error: 0.6132 - val_loss: 0.3078 - val_root_mean_squared_error: 0.5595 - lr: 0.0010\n",
      "Epoch 80/100\n",
      "118/118 [==============================] - 26s 225ms/step - loss: 0.3583 - root_mean_squared_error: 0.6141 - val_loss: 0.3050 - val_root_mean_squared_error: 0.5561 - lr: 0.0010\n",
      "Epoch 81/100\n",
      "118/118 [==============================] - 27s 226ms/step - loss: 0.3573 - root_mean_squared_error: 0.6139 - val_loss: 0.3052 - val_root_mean_squared_error: 0.5559 - lr: 0.0010\n",
      "Epoch 82/100\n",
      "118/118 [==============================] - 27s 225ms/step - loss: 0.3566 - root_mean_squared_error: 0.6129 - val_loss: 0.3046 - val_root_mean_squared_error: 0.5555 - lr: 0.0010\n",
      "Epoch 83/100\n",
      "118/118 [==============================] - 27s 227ms/step - loss: 0.3598 - root_mean_squared_error: 0.6193 - val_loss: 0.3070 - val_root_mean_squared_error: 0.5571 - lr: 0.0010\n",
      "Epoch 84/100\n",
      "118/118 [==============================] - 28s 241ms/step - loss: 0.3576 - root_mean_squared_error: 0.6160 - val_loss: 0.3035 - val_root_mean_squared_error: 0.5502 - lr: 0.0010\n",
      "Epoch 85/100\n",
      "118/118 [==============================] - 27s 225ms/step - loss: 0.3563 - root_mean_squared_error: 0.6119 - val_loss: 0.3077 - val_root_mean_squared_error: 0.5547 - lr: 0.0010\n",
      "Epoch 86/100\n",
      "118/118 [==============================] - 28s 239ms/step - loss: 0.3556 - root_mean_squared_error: 0.6119 - val_loss: 0.3031 - val_root_mean_squared_error: 0.5500 - lr: 0.0010\n",
      "Epoch 87/100\n",
      "118/118 [==============================] - 27s 227ms/step - loss: 0.3555 - root_mean_squared_error: 0.6113 - val_loss: 0.3039 - val_root_mean_squared_error: 0.5482 - lr: 0.0010\n",
      "Epoch 88/100\n",
      "118/118 [==============================] - 27s 225ms/step - loss: 0.3560 - root_mean_squared_error: 0.6131 - val_loss: 0.3096 - val_root_mean_squared_error: 0.5565 - lr: 0.0010\n",
      "Epoch 89/100\n",
      "118/118 [==============================] - 32s 273ms/step - loss: 0.3566 - root_mean_squared_error: 0.6153 - val_loss: 0.3035 - val_root_mean_squared_error: 0.5495 - lr: 0.0010\n",
      "Epoch 90/100\n",
      "118/118 [==============================] - 33s 281ms/step - loss: 0.3548 - root_mean_squared_error: 0.6108 - val_loss: 0.3136 - val_root_mean_squared_error: 0.5634 - lr: 0.0010\n",
      "Epoch 91/100\n",
      "118/118 [==============================] - 38s 321ms/step - loss: 0.3546 - root_mean_squared_error: 0.6091 - val_loss: 0.3057 - val_root_mean_squared_error: 0.5507 - lr: 0.0010\n",
      "Epoch 92/100\n",
      "118/118 [==============================] - 35s 295ms/step - loss: 0.3540 - root_mean_squared_error: 0.6095 - val_loss: 0.3030 - val_root_mean_squared_error: 0.5485 - lr: 0.0010\n",
      "Epoch 93/100\n",
      "118/118 [==============================] - 34s 286ms/step - loss: 0.3550 - root_mean_squared_error: 0.6118 - val_loss: 0.3033 - val_root_mean_squared_error: 0.5513 - lr: 0.0010\n",
      "Epoch 94/100\n",
      "118/118 [==============================] - 33s 283ms/step - loss: 0.3566 - root_mean_squared_error: 0.6136 - val_loss: 0.3162 - val_root_mean_squared_error: 0.5733 - lr: 0.0010\n",
      "Epoch 95/100\n",
      "118/118 [==============================] - 33s 276ms/step - loss: 0.3564 - root_mean_squared_error: 0.6149 - val_loss: 0.3078 - val_root_mean_squared_error: 0.5563 - lr: 0.0010\n",
      "Epoch 96/100\n",
      "118/118 [==============================] - 31s 265ms/step - loss: 0.3555 - root_mean_squared_error: 0.6128 - val_loss: 0.3034 - val_root_mean_squared_error: 0.5508 - lr: 0.0010\n",
      "Epoch 97/100\n",
      "118/118 [==============================] - 32s 268ms/step - loss: 0.3554 - root_mean_squared_error: 0.6137 - val_loss: 0.3057 - val_root_mean_squared_error: 0.5530 - lr: 0.0010\n",
      "Epoch 98/100\n",
      "118/118 [==============================] - 32s 276ms/step - loss: 0.3544 - root_mean_squared_error: 0.6125 - val_loss: 0.3048 - val_root_mean_squared_error: 0.5515 - lr: 0.0010\n",
      "Epoch 99/100\n",
      "118/118 [==============================] - 30s 258ms/step - loss: 0.3536 - root_mean_squared_error: 0.6095 - val_loss: 0.3060 - val_root_mean_squared_error: 0.5599 - lr: 0.0010\n",
      "Epoch 100/100\n",
      "118/118 [==============================] - 35s 296ms/step - loss: 0.3542 - root_mean_squared_error: 0.6103 - val_loss: 0.3005 - val_root_mean_squared_error: 0.5437 - lr: 0.0010\n"
     ]
    }
   ],
   "source": [
    "history1 = model1.fit(features_train, target, validation_split = 0.2, epochs = 100, batch_size = 512,\n",
    "                callbacks = [reduce_lr,checkpoint,es])"
   ]
  },
  {
   "cell_type": "code",
   "execution_count": null,
   "metadata": {
    "colab": {
     "base_uri": "https://localhost:8080/",
     "height": 284
    },
    "id": "GuQtCGj77f7m",
    "outputId": "a2c62bc3-e32a-4373-d192-3b71483499e2"
   },
   "outputs": [],
   "source": [
    "import matplotlib.pyplot as plt\n",
    "plt.figure(figsize = (20, 5))\n",
    "plt.plot(history1.history['loss'], label = \"loss\")\n",
    "plt.plot(history1.history['val_loss'], label = \"val_loss\")\n",
    "plt.legend()"
   ]
  },
  {
   "cell_type": "code",
   "execution_count": null,
   "metadata": {},
   "outputs": [],
   "source": [
    "from tensorflow import keras\n",
    "my_model = keras.models.load_model('Ventilator_Pressure_Prediction.h5')"
   ]
  },
  {
   "cell_type": "code",
   "execution_count": null,
   "metadata": {
    "colab": {
     "base_uri": "https://localhost:8080/"
    },
    "id": "kNtfzYmXagSL",
    "outputId": "f4bbc3e8-fa9c-42e0-b184-11850aca3709"
   },
   "outputs": [],
   "source": [
    "my_model.evaluate(features_train, target)"
   ]
  },
  {
   "cell_type": "code",
   "execution_count": null,
   "metadata": {
    "colab": {
     "base_uri": "https://localhost:8080/"
    },
    "id": "HD-RRQ8k7f7m",
    "outputId": "20c784a3-80f4-4b15-953e-e7e04c680d4f"
   },
   "outputs": [],
   "source": [
    "y_pred = my_model.predict(features_train)"
   ]
  },
  {
   "cell_type": "code",
   "execution_count": null,
   "metadata": {
    "colab": {
     "base_uri": "https://localhost:8080/"
    },
    "id": "UvyfciAvvZOX",
    "outputId": "91d16496-c95f-4966-f6f1-2175d80a01d2"
   },
   "outputs": [],
   "source": [
    "target[0]"
   ]
  },
  {
   "cell_type": "code",
   "execution_count": null,
   "metadata": {
    "colab": {
     "base_uri": "https://localhost:8080/"
    },
    "id": "GpqlPNit7f7n",
    "outputId": "c3ea73ca-d879-4adc-cd50-77d1e9d79730"
   },
   "outputs": [],
   "source": [
    "y_pred[0]"
   ]
  },
  {
   "cell_type": "markdown",
   "metadata": {},
   "source": [
    "# Visualizing Model's Perdormance "
   ]
  },
  {
   "cell_type": "code",
   "execution_count": null,
   "metadata": {
    "id": "3vZQd-OGZlmD"
   },
   "outputs": [],
   "source": [
    "def draw_result(start, end, target, y_pred):\n",
    "  plt.figure(figsize = (20, 7))\n",
    "  plt.plot(np.reshape(target[start:end], -1), linewidth=5, label = \"actual Pressure values\")\n",
    "  plt.plot(np.reshape(y_pred[start:end], -1), linewidth=2, label = \"predict Pressure values\")\n",
    "  plt.legend()"
   ]
  },
  {
   "cell_type": "code",
   "execution_count": null,
   "metadata": {
    "colab": {
     "base_uri": "https://localhost:8080/",
     "height": 354
    },
    "id": "ja5CTe6qbR54",
    "outputId": "5a348e83-9801-4410-a26d-14af7c172049"
   },
   "outputs": [],
   "source": [
    "draw_result(0, 50, target, y_pred)"
   ]
  },
  {
   "cell_type": "code",
   "execution_count": null,
   "metadata": {
    "colab": {
     "base_uri": "https://localhost:8080/",
     "height": 353
    },
    "id": "GLsim8rLbctR",
    "outputId": "b4eb7da5-facc-4e50-a339-2deb5946a67d"
   },
   "outputs": [],
   "source": [
    "draw_result(50, 110, target, y_pred)"
   ]
  },
  {
   "cell_type": "code",
   "execution_count": null,
   "metadata": {
    "colab": {
     "base_uri": "https://localhost:8080/",
     "height": 354
    },
    "id": "Eonq89yqb06Z",
    "outputId": "7cbdea85-1c22-435f-8b5f-94baf195f25b"
   },
   "outputs": [],
   "source": [
    "draw_result(110, 160, target, y_pred)"
   ]
  },
  {
   "cell_type": "code",
   "execution_count": null,
   "metadata": {
    "colab": {
     "base_uri": "https://localhost:8080/",
     "height": 353
    },
    "id": "5Pnp0GtegcGu",
    "outputId": "8131dff9-5aa3-41e3-9ea8-ece3ef7461cb"
   },
   "outputs": [],
   "source": [
    "draw_result(160, 220, target, y_pred)"
   ]
  },
  {
   "cell_type": "code",
   "execution_count": null,
   "metadata": {
    "colab": {
     "base_uri": "https://localhost:8080/",
     "height": 371
    },
    "id": "bG7NTX_IcO0i",
    "outputId": "43d5b172-82db-4dbf-9f86-bd627d95e98f"
   },
   "outputs": [],
   "source": [
    "plt.figure(figsize = (20, 7))\n",
    "plt.plot(np.reshape(target[:500], -1), np.reshape(target[:500], -1), linewidth=3, label = \"actual Pressure values\")\n",
    "plt.scatter(np.reshape(target[:500], -1), np.reshape(y_pred[:500], -1), c = 'g', label = \"predict Pressure values\")\n",
    "plt.legend()"
   ]
  },
  {
   "cell_type": "code",
   "execution_count": null,
   "metadata": {
    "id": "oeZRhGlQeWqw"
   },
   "outputs": [],
   "source": [
    "def create_table(target, y_pred):\n",
    "  target = np.reshape(target, -1)\n",
    "  y_pred = np.reshape(y_pred, -1)\n",
    "  return pd.DataFrame({\n",
    "      \"actual Pressure values\": target,\n",
    "      \"predict Pressure values\": y_pred,\n",
    "      \"diff\": np.abs(target - y_pred)\n",
    "  })"
   ]
  },
  {
   "cell_type": "code",
   "execution_count": null,
   "metadata": {
    "colab": {
     "base_uri": "https://localhost:8080/",
     "height": 1000
    },
    "id": "V-As3ciie2x-",
    "outputId": "5971e28b-cbad-41e8-dd9e-9683f68812a1"
   },
   "outputs": [],
   "source": [
    "create_table(target, y_pred).head(40)"
   ]
  },
  {
   "cell_type": "code",
   "execution_count": null,
   "metadata": {
    "id": "o1xuJQLLatoq"
   },
   "outputs": [],
   "source": [
    "my_model.save(\"Ventilator_Pressure_Prediction1.h5\")"
   ]
  },
  {
   "cell_type": "code",
   "execution_count": null,
   "metadata": {},
   "outputs": [],
   "source": [
    "y_pred_test = my_model.predict(features_test, batch_size = 512)"
   ]
  },
  {
   "cell_type": "code",
   "execution_count": null,
   "metadata": {},
   "outputs": [],
   "source": [
    "print(y_pred_test.shape)"
   ]
  },
  {
   "cell_type": "code",
   "execution_count": null,
   "metadata": {},
   "outputs": [],
   "source": [
    "y_pred_test[0]"
   ]
  },
  {
   "cell_type": "code",
   "execution_count": null,
   "metadata": {},
   "outputs": [],
   "source": [
    "features_test.shape"
   ]
  },
  {
   "cell_type": "code",
   "execution_count": null,
   "metadata": {},
   "outputs": [],
   "source": [
    "y_pred_test = np.array(y_pred_test).reshape(-1,1)"
   ]
  },
  {
   "cell_type": "code",
   "execution_count": null,
   "metadata": {},
   "outputs": [],
   "source": [
    "y_pred_test"
   ]
  },
  {
   "cell_type": "code",
   "execution_count": null,
   "metadata": {},
   "outputs": [],
   "source": [
    "for i in y_pred_test:\n",
    "    print(i)"
   ]
  },
  {
   "cell_type": "code",
   "execution_count": null,
   "metadata": {},
   "outputs": [],
   "source": [
    "submission = pd.DataFrame()"
   ]
  },
  {
   "cell_type": "code",
   "execution_count": null,
   "metadata": {},
   "outputs": [],
   "source": [
    "submission['id'] = test['id']"
   ]
  },
  {
   "cell_type": "code",
   "execution_count": null,
   "metadata": {},
   "outputs": [],
   "source": [
    "submission['pressure'] = y_pred_test"
   ]
  },
  {
   "cell_type": "code",
   "execution_count": null,
   "metadata": {},
   "outputs": [],
   "source": [
    "print(submission)"
   ]
  },
  {
   "cell_type": "code",
   "execution_count": null,
   "metadata": {},
   "outputs": [],
   "source": [
    "def csv_download_link(df, csv_file_name, delete_prompt=True):\n",
    "    \"\"\"Display a download link to load a data frame as csv from within a Jupyter notebook\"\"\"\n",
    "    df.to_csv(csv_file_name, index=False)\n",
    "    from IPython.display import FileLink\n",
    "    display(FileLink(csv_file_name))\n",
    "    if delete_prompt:\n",
    "        a = input('Press enter to delete the file after you have downloaded it.')\n",
    "        import os\n",
    "        os.remove(csv_file_name)"
   ]
  },
  {
   "cell_type": "code",
   "execution_count": null,
   "metadata": {},
   "outputs": [],
   "source": [
    "csv_download_link(submission, 'submission.csv')"
   ]
  },
  {
   "cell_type": "code",
   "execution_count": null,
   "metadata": {},
   "outputs": [],
   "source": [
    "from IPython.display import HTML\n",
    "import base64\n",
    "def create_download_link( df, title = \"Download CSV file\", filename = \"data.csv\"):  \n",
    "    csv = df.to_csv()\n",
    "    b64 = base64.b64encode(csv.encode())\n",
    "    payload = b64.decode()\n",
    "    html = '<a download=\"{filename}\" href=\"data:text/csv;base64,{payload}\" target=\"_blank\">{title}</a>'\n",
    "    html = html.format(payload=payload,title=title,filename=filename)\n",
    "    return HTML(html)\n",
    "\n",
    "create_download_link(submission)"
   ]
  },
  {
   "cell_type": "code",
   "execution_count": null,
   "metadata": {},
   "outputs": [],
   "source": []
  }
 ],
 "metadata": {
  "accelerator": "GPU",
  "colab": {
   "machine_shape": "hm",
   "provenance": []
  },
  "gpuClass": "standard",
  "kernelspec": {
   "display_name": "Python 3 (ipykernel)",
   "language": "python",
   "name": "python3"
  },
  "language_info": {
   "codemirror_mode": {
    "name": "ipython",
    "version": 3
   },
   "file_extension": ".py",
   "mimetype": "text/x-python",
   "name": "python",
   "nbconvert_exporter": "python",
   "pygments_lexer": "ipython3",
   "version": "3.9.7"
  }
 },
 "nbformat": 4,
 "nbformat_minor": 4
}
